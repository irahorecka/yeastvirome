{
 "cells": [
  {
   "cell_type": "markdown",
   "id": "f94a1295-cf53-4f80-be35-69a23b7e7a4d",
   "metadata": {},
   "source": [
    "# Transcriptomic Signature of Mycovirus Infection in Yeast\n",
    "\n",
    "## Objective\n",
    "To test whether infection by specific classes of mycoviruses leads to consistent transcriptional changes across *Saccharomyces cerevisiae* strains.\n",
    "\n",
    "## Data Sources\n",
    "- RNA-seq dataset from Caudal et al. (2024) covering hundreds of yeast strains\n",
    "- Mycovirus infection metadata per strain (e.g. presence/absence of Narnaviridae, Totiviridae, etc.)\n",
    "- Additional phenotype metadata (growth rate, ecology, clade, etc.)\n",
    "\n",
    "## Approach\n",
    "1. Load RNA-seq expression matrix (genes × strains)\n",
    "2. Group strains by virus infection status\n",
    "3. Perform differential expression analysis (infected vs uninfected)\n",
    "4. Run gene set enrichment (GO terms, pathways)\n",
    "5. Visualize results\n",
    "\n",
    "## Notes\n",
    "- This is an exploratory analysis.\n",
    "- Viral infection may correlate with strain background or ecology.\n",
    "- We will interpret findings cautiously and use controls when possible."
   ]
  },
  {
   "cell_type": "code",
   "execution_count": null,
   "id": "98138990-e66c-419d-a2a4-54f78cef34cc",
   "metadata": {},
   "outputs": [],
   "source": []
  },
  {
   "cell_type": "code",
   "execution_count": null,
   "id": "bbe0dfa5-34bb-488c-b459-018db9896dc2",
   "metadata": {},
   "outputs": [],
   "source": []
  }
 ],
 "metadata": {
  "kernelspec": {
   "display_name": "risk",
   "language": "python",
   "name": "risk"
  },
  "language_info": {
   "codemirror_mode": {
    "name": "ipython",
    "version": 3
   },
   "file_extension": ".py",
   "mimetype": "text/x-python",
   "name": "python",
   "nbconvert_exporter": "python",
   "pygments_lexer": "ipython3",
   "version": "3.12.8"
  }
 },
 "nbformat": 4,
 "nbformat_minor": 5
}
